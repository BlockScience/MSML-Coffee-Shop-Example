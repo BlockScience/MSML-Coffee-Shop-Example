{
 "cells": [
  {
   "cell_type": "code",
   "execution_count": 1,
   "id": "8623d532",
   "metadata": {},
   "outputs": [],
   "source": [
    "from Types import ConsumerIDType, CurrencyType, BaristaScheduleType"
   ]
  },
  {
   "cell_type": "code",
   "execution_count": 2,
   "id": "07fb6ee7",
   "metadata": {},
   "outputs": [],
   "source": [
    "from States import state"
   ]
  },
  {
   "cell_type": "code",
   "execution_count": 4,
   "id": "6866229b",
   "metadata": {},
   "outputs": [
    {
     "name": "stdout",
     "output_type": "stream",
     "text": [
      "{'name': 'Consumer State', 'notes': 'There will be 0+ of these states, based on queue length', 'variables': [{'type': <function NewType.<locals>.new_type at 0x7fda2984d5e0>, 'name': 'id', 'description': 'The id of the customer, must be unique', 'symbol': None, 'domain': None}, {'type': <function NewType.<locals>.new_type at 0x7fda2984d700>, 'name': 'time_waited', 'description': 'The time the customer has waited, init at 0', 'symbol': None, 'domain': None}]}\n"
     ]
    }
   ],
   "source": [
    "print(state['Consumer State'])"
   ]
  },
  {
   "cell_type": "code",
   "execution_count": null,
   "id": "2d50344c",
   "metadata": {},
   "outputs": [],
   "source": [
    "from StatefulMetrics import stateful_metrics"
   ]
  }
 ],
 "metadata": {
  "kernelspec": {
   "display_name": "Python 3 (ipykernel)",
   "language": "python",
   "name": "python3"
  },
  "language_info": {
   "codemirror_mode": {
    "name": "ipython",
    "version": 3
   },
   "file_extension": ".py",
   "mimetype": "text/x-python",
   "name": "python",
   "nbconvert_exporter": "python",
   "pygments_lexer": "ipython3",
   "version": "3.9.12"
  }
 },
 "nbformat": 4,
 "nbformat_minor": 5
}
