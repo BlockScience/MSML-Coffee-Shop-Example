{
 "cells": [
  {
   "cell_type": "code",
   "execution_count": 2,
   "id": "8623d532",
   "metadata": {},
   "outputs": [
    {
     "ename": "ImportError",
     "evalue": "cannot import name 'CurrencyType' from 'Types' (/Users/seanmcowen/Dropbox/BlockScience/MSML-Coffee-Shop-Example/src/Types/__init__.py)",
     "output_type": "error",
     "traceback": [
      "\u001b[0;31m---------------------------------------------------------------------------\u001b[0m",
      "\u001b[0;31mImportError\u001b[0m                               Traceback (most recent call last)",
      "\u001b[0;32m/var/folders/y0/fwkpk2ps087b_2qxvhjstrfr0000gn/T/ipykernel_12990/2587321576.py\u001b[0m in \u001b[0;36m<module>\u001b[0;34m\u001b[0m\n\u001b[0;32m----> 1\u001b[0;31m \u001b[0;32mfrom\u001b[0m \u001b[0mTypes\u001b[0m \u001b[0;32mimport\u001b[0m \u001b[0mConsumerIDType\u001b[0m\u001b[0;34m,\u001b[0m \u001b[0mCurrencyType\u001b[0m\u001b[0;34m\u001b[0m\u001b[0;34m\u001b[0m\u001b[0m\n\u001b[0m",
      "\u001b[0;31mImportError\u001b[0m: cannot import name 'CurrencyType' from 'Types' (/Users/seanmcowen/Dropbox/BlockScience/MSML-Coffee-Shop-Example/src/Types/__init__.py)"
     ]
    }
   ],
   "source": [
    "from Types import ConsumerIDType, CurrencyType"
   ]
  },
  {
   "cell_type": "code",
   "execution_count": null,
   "id": "c8e09976",
   "metadata": {},
   "outputs": [],
   "source": []
  }
 ],
 "metadata": {
  "kernelspec": {
   "display_name": "Python 3 (ipykernel)",
   "language": "python",
   "name": "python3"
  },
  "language_info": {
   "codemirror_mode": {
    "name": "ipython",
    "version": 3
   },
   "file_extension": ".py",
   "mimetype": "text/x-python",
   "name": "python",
   "nbconvert_exporter": "python",
   "pygments_lexer": "ipython3",
   "version": "3.9.12"
  }
 },
 "nbformat": 4,
 "nbformat_minor": 5
}
